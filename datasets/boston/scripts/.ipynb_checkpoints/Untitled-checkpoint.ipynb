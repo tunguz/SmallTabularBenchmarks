{
 "cells": [
  {
   "cell_type": "code",
   "execution_count": 6,
   "id": "4ed1ff92-0186-4361-98f8-fee56c713a8f",
   "metadata": {},
   "outputs": [],
   "source": [
    "import pandas as pd\n",
    "import numpy as np\n",
    "\n",
    "import xgboost as xgb\n",
    "from tensorboardX import SummaryWriter\n",
    "\n",
    "#from sklearn.datasets import load_boston\n",
    "from sklearn.model_selection import train_test_split\n",
    "\n",
    "def TensorBoardCallback():\n",
    "    writer = SummaryWriter()\n",
    "    def callback(env):\n",
    "        for k, v in env.evaluation_result_list:\n",
    "            writer.add_scalar(k, v, env.iteration)\n",
    "    return callback\n",
    "\n"
   ]
  },
  {
   "cell_type": "code",
   "execution_count": 8,
   "id": "9d127336-ad92-4c39-9bad-c80ed109afe4",
   "metadata": {},
   "outputs": [],
   "source": [
    "data_url = \"http://lib.stat.cmu.edu/datasets/boston\"\n",
    "raw_df = pd.read_csv(data_url, sep=r\"\\s+\", skiprows=22, header=None)\n",
    "data = np.hstack([raw_df.values[::2, :], raw_df.values[1::2, :2]])\n",
    "target = raw_df.values[1::2, 2]"
   ]
  },
  {
   "cell_type": "code",
   "execution_count": null,
   "id": "d6084f0c-5715-4a77-a978-c7d6c1eeaa20",
   "metadata": {},
   "outputs": [],
   "source": [
    "X, y = load_boston(return_X_y=True)\n",
    "X_train, X_test, y_train, y_test = train_test_split(X, y, test_size=0.2, random_state=100)\n",
    "\n",
    "dtrain = xgb.DMatrix(X_train, label=y_train)\n",
    "dtest = xgb.DMatrix(X_test, label=y_test)\n",
    "\n",
    "params = {'objective':'reg:squarederror', 'eval_metric': 'rmse'}\n",
    "\n",
    "bst = xgb.train(params, dtrain, num_boost_round=100, evals=[(dtrain, 'train'), (dtest, 'test')],\n",
    "        callbacks=[TensorBoardCallback()])"
   ]
  },
  {
   "cell_type": "code",
   "execution_count": null,
   "id": "86518f5e-8af7-4c38-a87d-1e78674910ed",
   "metadata": {},
   "outputs": [],
   "source": []
  }
 ],
 "metadata": {
  "kernelspec": {
   "display_name": "Python 3 (ipykernel)",
   "language": "python",
   "name": "python3"
  },
  "language_info": {
   "codemirror_mode": {
    "name": "ipython",
    "version": 3
   },
   "file_extension": ".py",
   "mimetype": "text/x-python",
   "name": "python",
   "nbconvert_exporter": "python",
   "pygments_lexer": "ipython3",
   "version": "3.12.3"
  }
 },
 "nbformat": 4,
 "nbformat_minor": 5
}
